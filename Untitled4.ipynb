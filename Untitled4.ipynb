{
 "cells": [
  {
   "cell_type": "code",
   "execution_count": 15,
   "id": "c25f8869",
   "metadata": {},
   "outputs": [
    {
     "name": "stdout",
     "output_type": "stream",
     "text": [
      "Means for df1 are  LOAN        3208.333333\n",
      "MORTDUE    67495.958333\n",
      "VALUE      82529.125000\n",
      "YOJ            8.500000\n",
      "CLAGE        144.749455\n",
      "CLNO          16.583333\n",
      "DEBTINC       33.052122\n",
      "dtype: float64\n",
      "Means for df2 are  LOAN        3045.918367\n",
      "MORTDUE    49386.494253\n",
      "VALUE      64033.483871\n",
      "YOJ            8.179775\n",
      "CLAGE        140.209320\n",
      "CLNO          15.586957\n",
      "DEBTINC       30.947152\n",
      "dtype: float64\n"
     ]
    }
   ],
   "source": [
    "# Import the necessary modules\n",
    "import pandas as pd\n",
    "\n",
    "hmeq = pd.read_csv(\"hmeq_small.csv\")\n",
    "#print(hmeq.head())\n",
    "\n",
    "# # Create a new data frame with the rows with missing values dropped\n",
    "df1 = hmeq.dropna()\n",
    "#print(df1.head())\n",
    "\n",
    "# # Create a new data frame with the missing values filled in by the mean of the column\n",
    "df2 = hmeq.fillna(hmeq.mean())\n",
    "#print(df2.head())\n",
    "\n",
    "# # Print the means of the columns for each new data frame\n",
    "print(\"Means for df1 are \", df1.mean())\n",
    "\n",
    "print(\"Means for df2 are \", df2.mean())"
   ]
  },
  {
   "cell_type": "code",
   "execution_count": null,
   "id": "a6537e96",
   "metadata": {},
   "outputs": [],
   "source": []
  }
 ],
 "metadata": {
  "kernelspec": {
   "display_name": "Python 3 (ipykernel)",
   "language": "python",
   "name": "python3"
  },
  "language_info": {
   "codemirror_mode": {
    "name": "ipython",
    "version": 3
   },
   "file_extension": ".py",
   "mimetype": "text/x-python",
   "name": "python",
   "nbconvert_exporter": "python",
   "pygments_lexer": "ipython3",
   "version": "3.10.9"
  }
 },
 "nbformat": 4,
 "nbformat_minor": 5
}
